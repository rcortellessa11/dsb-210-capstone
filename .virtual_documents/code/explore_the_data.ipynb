





import pandas as pd
import numpy as np
import matplotlib.pyplot as plt
import seaborn as sns

import re # searches for patterns in a string
import ast
import string





df = pd.read_csv('../data/all_recipes_combined.csv')
df.head()





df.shape





df.dtypes








# Check for nulls
df.isnull().sum()





# View null values
df[df['recipe_url'].isnull()]


# Drop null values in url column
df.dropna(subset = ['recipe_url'], inplace = True)


# Confirm
df[df['recipe_url'].isnull()]





# View null values
df[df['intro'].isnull()]


# Drop null values in intro column
df.dropna(subset = ['intro'], inplace = True)


# Confirm
df[df['recipe_url'].isnull()]





# View null values
df[df['nutrition'].isnull()]


# Drop null values in intro column
df.dropna(subset = ['nutrition'], inplace = True)


# Confirm
df[df['nutrition'].isnull()]





# View null values
df[df['servings'].isnull()]


# Drop null values in servings column
df.dropna(subset = ['servings'], inplace = True)


# Confirm
df[df['nutrition'].isnull()]





# View null values
df[df['prep_time'].isnull()]





# View null values
df[df['total_time'].isnull()]


# Drop null values in total_time column
df.dropna(subset = ['total_time'], inplace = True)


# Confirm
df[df['total_time'].isnull()]





# View null values
df[df['cook_time'].isnull()]


# Final null value spread
df.isnull().sum()


# Shape after dropped nulls
df.shape





# Check for duplicate recipes
df['title'].value_counts()


# How many recipes are duplicated ?
df['title'].duplicated().sum()


# Want only unique recipes, dropping duplicates
df.drop_duplicates(subset = ['title'], inplace = True)


# Confirm
df['title'].duplicated().sum()


df.shape





# Check data types
df.dtypes





# Look at values in prep_time column
df['prep_time'].value_counts()


# Look at values in cook_time column
df['cook_time'].value_counts()


# Look at values in total_time column
df['total_time'].value_counts()





# Define the function
def convert_to_minutes(time_str): 

    # Return the value as is if it's already NaN or empty
    if pd.isna(time_str) or not time_str:
        return time_str

    # Turn into string to process
    time_str = str(time_str).strip()
    
    # Try to convert to float directly (for 20.0, etc)
    try:
        value = float(time_str)
        return int(value)
    except ValueError:
        pass
        
    # Define regular expression raw string
    # '(\d+)\s*days?)?' accounts for days
    # '(\d+)\s*hrs?\s*(\d+)\s*mins' accounts for hour and min string (ie. 1 hr 40 min)
    # '(\d+)\s*hrs?' accounts for hours (ie. 1 hr)
    # 's*(\d+)\s*mins' accounts for mins (ie. 40 mins)
    pattern = r'(?:(\d+)\s*days?)?\s*(?:(\d+)\s*hrs?)?\s*(?:(\d+)\s*mins?)?'

    # Matches the time_str against the pattern to see if there are any matches
    match = re.match(pattern, str(time_str))

    # If a match was found, if statements will run
    if match:
        # Case 1: days, hours, and minutes (or any subset of them)
        days = int(match.group(1)) if match.group(1) else 0
        hours = int(match.group(2)) if match.group(2) else 0
        minutes = int(match.group(3)) if match.group(3) else 0
        return days * 1440 + hours * 60 + minutes

        # Handling invalid formats
        return 


# Apply function to column prep_time
df['prep_time'] = df['prep_time'].apply(convert_to_minutes)


# Confirm
df['prep_time'].value_counts()


# Apply function to column cook_time
df['cook_time'] = df['cook_time'].apply(convert_to_minutes)


# Confirm
df['cook_time'].value_counts()


# Apply function to column total_time
df['total_time'] = df['total_time'].apply(convert_to_minutes)


# Confirm
df['total_time'].value_counts()


# Check to make sure everything converted corerctly
df.isnull().sum()





# Check how data is stored in servings column
df['servings'].unique()


# Clean servings column
df['servings'] = df['servings'].str.extract(r'(\d+\.?\d*)', expand=False)
# Removes extra characters 


# Convert the servings column to numeric (float or int)
df['servings'] = pd.to_numeric(df['servings'], errors='coerce')


# Confirm
df['servings'].value_counts()








df['nutrition'].head()


# Function to clean nutrition data and convert it to a dictionary
def clean_and_parse_nutrition(nutrition_str):
    if isinstance(nutrition_str, str):
        # Clean string by removing 'g' and replace single quotes with double quotes
        cleaned_str = re.sub(r'(\d+)(g)', r'\1', nutrition_str)  # Removes 'g'
        cleaned_str = cleaned_str.replace("'", '"')  # Replaces single quotes with double quotes for valid JSON
        print(f"Cleaned string: {cleaned_str}")  # Print the cleaned string for debugging
        try:
            return ast.literal_eval(cleaned_str)  # Convert to dictionary
        except Exception as e:
            print(f"Error parsing string: {nutrition_str}, Error: {e}")
            return {}
    return {}


# Apply the cleaning function to the 'nutrition' column
df['nutrition'] = df['nutrition'].apply(clean_and_parse_nutrition)


# Extract the nutritional components into separate columns
df['calories'] = df['nutrition'].apply(lambda x: int(x.get('Calories', 0)) if x else 0)
df['fat'] = df['nutrition'].apply(lambda x: int(x.get('Fat', '0').strip()) if x else 0)
df['carbs'] = df['nutrition'].apply(lambda x: int(x.get('Carbs', '0').strip()) if x else 0)
df['protein'] = df['nutrition'].apply(lambda x: int(x.get('Protein', '0').strip()) if x else 0)


# Drop nutrition column, no longer need
df = df.drop(columns=['nutrition'])


# Confirm
df.head(3)








df['ingredients'].head()


df['ingredients'].unique()
# ingredients column contains: quantities, units, and descriptors


type(df['ingredients'].iloc[0])
# ingredients are stored as a series of strings, want to convert to a list to be able to loop through and apply transformations


# Convert ingredients column for each cell to contain a list of ingredient strings
df['ingredients'] = df['ingredients'].apply(ast.literal_eval)


# Confirm
type(df['ingredients'].iloc[0])





df['ingredients'][0]
# I want to remove punctuation, parentheses any anything in them, all lowercase, and strip any extra whitespace


# Write a function to lower(), strip(), remove punctuation, numerics, and anything in parentheses
def first_clean_text(ingredient_list):
    clean_ingredients = [] # Create an empty list where cleaned ingredients will be stored

    number_pattern = r'\d+' # regular expression to remove all numbers
    fraction_pattern = r'[\u00BC-\u00BE\u2150-\u215E]' # unicode fraction types
    
    for item in ingredient_list: # iterate through each ingredient
        item = item.lower().strip() # converts all text to lower case and removes extra spaces
        item = re.sub(r'\(.*?\)', '', item) # regular expression to remove any text within parenteses 
        item = re.sub(fraction_pattern, '', item) # removes unicode fractions
        item = item.translate(str.maketrans('', '', string.punctuation)) # removes any punctuation using a built in python table
        item = re.sub(number_pattern, '', item) # removes all numbers
        item = item.strip() # strip any extra spaces after the rest
        clean_ingredients.append(item) # takes the cleaned ingredient item and add it to the clean_ingredients list
        
    return clean_ingredients


# Apply the funciton to the ingredients column, save as a new column just in case
df['cleaned_ingredients'] = df['ingredients'].apply(first_clean_text)


# Confirm
df['cleaned_ingredients'][0]


# Function to remove all numerics and all units of measure
def clean_units(ingredient_list):
    no_units_ingredients = []  # Create an empty list where cleaned ingredients will be stored
    # define the untis of measurement
    quantity_and_units = r'\b(cup|cups|ounce|ounces|oz|tablespoon|tablespoons|tbsp|teaspoon|teaspoons|tsp|pinch|pinches|container|box|boxes|containers|quart|quarts|packet|packets|package|packages|sheetsheets|can|cans|sleeve|sleeves|whole|slice|slices|clove|cloves|stale|pound|pounds|large|medium|small|tiny|jumbo|sheet|sheets|mini)\b'

    for item in ingredient_list:
        item = re.sub(quantity_and_units, '', item) # remove units
        item = item.strip() # remove any extra whitespace after removal
        no_units_ingredients.append(item)

    return no_units_ingredients


# Apply the funciton to the cleaned_ingredients column
df['cleaned_ingredients'] = df['cleaned_ingredients'].apply(clean_units)


# Confirm
df['cleaned_ingredients'][0]


from collections import Counter


all_ingredients = [ingredient for sublist in df['cleaned_ingredients'] for ingredient in sublist]
ingredient_counts = Counter(all_ingredients)


ingredient_counts


# Now I want to remove all prep words
prep_words = ['minced','freshly','ground','chopped','to taste','dried','shredded','ground','grated','hull','hulled','beaten','crushed','extravirgin','crumbled',
              'or','diced','whipping','melted','lean','juiced','divided','skinless','boneless','halves','fresh','dry','plain','finely','roasted',
              'unsweetened','distilled','granulated','packed','cold','softened','light','sliced','at room temperature','for','frying','sweetened',
              'extra virgin','peeled''and deveined','seasoned','rinsed and','drained','as needed','cubes','semisweet','florets','thinly','lowsodium',
              'removed','cut','into','wedges','and rinsed','mix','nonstick','toasted','reducedsodium','stalks','instant','boiling','bunch','zested',
              'warm','peeled','pitted','dark','rolled','uncooked','cooked','creamy','halved','plus','granules','serving','skewers','prepared',
              'smashed','and diced','filets','more','split','lukewarm','bitesized','pieces','thawed','and drained','to','cover','stalk','pure',
              'with flour','fine','dry','jar','inch','of','thickcut','lessodium','low','long grain','prepared','drops','dashes','leaves','chunk',
              'chunks','garnish','full','fat','wooden skewers','about','bonein','cubed','bottle','envelope','refrigerated','raw','filet','and cubed',
              'caps','canned','and squeezed','shortgrain','glutinous','japanese sushistyle','crunchy','sprig','sprigs','natural','fullfat','very',
              'baked','regular','deepdish','fireroasted','sushi','japanese','chinese','scrubbed','pint','thin','seperated','rings','lengthwise',
              'head','seperated','marinated','quartered','cored','seeded','splash','coarsely','wholemilk','coarsely','miniature','dipping','meat'
              'complete','italianstyle','jarred','ball','torn','hardboiled','and','reducedfat','processed','lb','pickled','firm','soaked',
              'coarsely','flaked','flaky','lesssodium','roughly','if needed','cube','pressed','undrained','bittersweet','seperated','snipped',
              'dusting','warmed','sodium','lowfat','with juice','gallons','tenderizer','matchsticks','extrafirm','stick','cleaned','pimentostuffed',
              'longgrain','flavoring','stems','lowfat','rinsed','mixed','well','cutlets','reduced','blend','deveined','pounded','thickness',
              'curd','rainbow jimmie','chilled','pureed','quickcooking','fullycooked','soft','drizzling','squeezed','shelled','diagonally','strips',
              'parts','seperated','bitesize','broken','indian','clarified','cube','new','in water','minutes','debearded','crosswise','from',
              'squares parchement paper','ranchstyle','bibb','lightly','thick','and deveined','in water minutes','drizzling','cracked','thick',
              'fillets','freshlysqueezed','patted','links','piece','ripe','portions','such as','holiday','premium','milkfat','blanched','superfine',
              'xinch parchment paper','heads','extra','sunsulphured','frozen','lowersodium','reserved','jars','stemmed','trimmed','horizontally',
              's’moresized','strong','mashed','pan','matchstick','with','unsulphured','shaved','separated','sea','julienned','lacinato',
              'squares parchment paper','discarded','high','protein','good culture®','round','breaded','fully','chunky','saltfree','roast',
              'red pink white jimmie','canadian','mild','precut','dutch process','wholewheat','java chip flavored','dairy free','virgin','cooled',
              'almond breeze','blue diamond','highquality','crumbs','firmly','fatfree','nondairy','crumb','dash','lowmoisture partskim','oilpacked',
              'stewed','asian','jellied','silver skin','rounds','bag','scoop','brushing','additional greasing','topping','until smooth','morsels',
              'gel','box','rolling','buttery','arils','nonfat','deep','fluid','lump','milkfish','the','other cooking apples eighths','whitefleshed',
              'in shell','any color','complete','using holes on grater','optional toppings','kosher','root','additional','if','desired','aged',
              'dredging','sifted','milk choice','in half','aluminum foil','thirds','up','flakes','raos®','malk®','greasing','rubbed','vertically',
              'concentrate','soybased','loosely','loaf','sticks','genoa','italianseasoned','quarters','spears','in oil','fire','brewed','bulk',
              'turbinado','demerara','matchsticksize','montreal','knorr®','whisked','strained','sandwich','excess','base',
              'caramel pumpkin pie spice candy eyes','bits','waxed paper','pepperidge farm®','spread boursin®','other cooking apples eighths',
              'dots® honey mustard pretzels','centercut','red pink white jimmie','converted','snacksized bags cookies',
              '® teddy grahams® oreos® nilla wafers®','reese’s® peanut butter hershey’s® chocolate bar','stirfry','other temperature oil',
              'morefor','carton','several','thincut','nonpareil','bone in','doublecut','any chile pepper','louisianastyle','seafood seasoning',
              'chile de','cheesy','snaps','in adobo','hawaiianstyle','dice','mostly','sauceless','few hot sauce','spice','rack','membrane','oval',
              'jimmy dean® original hearty','crumbles','goodquality','flatleaf','top','oil cooking','stale italian','cured picnic','hickory chips',
              'readytoeat','country style','italian flat leaf','thickly','racks','chocolate curls','other','thickskinned','thinskinned','english']


# Function to remove all the prep words for the ingredients
def remove_prep_words(ingredient_list):
    
    pattern = pattern = r'(?<!\w)(?:' + '|'.join(re.escape(word) for word in prep_words) + r')(?!\w)' # regular expression pattern to remove prep_words
    cleaned = [re.sub(pattern, '', ingredient).strip() for ingredient in ingredient_list] # remove words and clean up extra whitespace
    
    return [re.sub(r'\s+', ' ', ing) for ing in cleaned if ing]


df['cleaned_ingredients'] = df['cleaned_ingredients'].apply(remove_prep_words)


# Confirm
df['cleaned_ingredients'][0]


all_ingredients = [ingredient for sublist in df['cleaned_ingredients'] for ingredient in sublist]
ingredient_counts = Counter(all_ingredients)
ingredient_counts





# total_time

def categorize_time(total_time):
   
    if total_time <= 30:
        return '30 minutes or less!'
    elif 31 <= total_time <= 60:
        return 'Hour or less!'
    elif 61 <= total_time <= 120:
        return 'Long recipes! (60-120)'
    else:
        return 'Livin in the kitchin!'


# Apply function
df['time_category'] = df['total_time'].apply(categorize_time)


df.head(3)


# calories column

def categorize_calories(calories):
   
    if calories <= 300:
        return 'Low cal (<300)'
    elif 301 <= calories <= 600:
        return 'Average (300–600)'
    elif 601 <= calories <= 1000:
        return 'High (600–1000)'
    else:
        return "Don't look! (>1000)"


# Apply function
df['calorie_category'] = df['calories'].apply(categorize_calories)


df.head(3)


# fats column

def categorize_fats(fat):
   
    if fat <= 10:
        return 'Low Fat! (< 10)'
    elif 11 <= fat <= 25:
        return 'Average Fat! (11-25)'
    else:
        return "High Fat! (> 25)"


# Apply function
df['fat_category'] = df['fat'].apply(categorize_fats)


df.head(3)


# carbs column

def categorize_carbs(carbs):
   
    if carbs <= 25:
        return 'Low Carbs! (< 25)'
    elif 26 <= carbs <= 80:
        return 'Average Carbs! (25-80)'
    else:
        return "High Carbs! (> 80)"


# Apply function
df['carbs_category'] = df['carbs'].apply(categorize_carbs)


df.head(3)


# protein column

def categorize_proteins(proteins):
   
    if proteins <= 10:
        return 'Low Protein! (< 10)'
    elif 11 <= proteins <= 29:
        return 'Average Protein! (11-29)'
    else:
        return "High Protein! (> 30)"


# Apply function
df['protein_category'] = df['protein'].apply(categorize_proteins)


df.head()


df.to_csv('../data/recipes_cleaned.csv', index=False)





# Convert to DataFrame
df_counts = pd.DataFrame(ingredient_counts.most_common(20), columns=['ingredient', 'count'])

plt.figure(figsize=(12, 7))
sns.barplot(
    data=df_counts,
    y='ingredient',
    x='count',
    hue='ingredient',
    dodge=False,
    palette='viridis',
    legend=False
)
plt.title('Salt, Garlic, & Black Pepper: The Backbone of Recipes')
plt.xlabel('Count')
plt.ylabel('Ingredient')
plt.tight_layout()
plt.show()
