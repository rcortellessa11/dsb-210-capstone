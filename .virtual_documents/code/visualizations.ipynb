


# Imports
import pandas as pd
import numpy as np
import matplotlib.pyplot as plt
import seaborn as sns


df = pd.read_csv('../data/recipes_cleaned.csv')
df.head()





# Max
df['prep_time'].max()


# Min
df['prep_time'].min()


sns.set(style="whitegrid")
plt.figure(figsize = (12, 6))

# Create a boxplot to look at time distribution
sns.boxplot(x=df['prep_time'])

# Add labels and title
plt.xlabel("Preparation Time (minutes)")
plt.title("Distribution of Recipe Preparation Times");


# There is an extreme outlier at 300 minutes, and another around 120 minutes
df[df['prep_time'] == 300]

# Recipe is Pineapple Smoothie, I looked at the recipe on the website from url, the time is correct at 5 hours or 300 minutes
# I'm going to guess that the author is including the time it takes to freeze the fruit into prep_time


df[df['prep_time'] > 100]

# Recipe is S'mores Cupcakes, the prep time is correct, from the url it does say the recipe takes 2 hours of prep_time





# Max
df['total_time'].max()


# Min
df['total_time'].min()
df['total_time'].mean()


sns.set(style="whitegrid")
plt.figure(figsize = (12, 6))

# Create a boxplot to look at time distribution
sns.boxplot(x=df['total_time'])

# Add labels and title
plt.xlabel("Total Time (minutes)")
plt.title("Distribution of Recipe Total Times");

# Plot the histogram
plt.figure(figsize=(9, 6))
sns.histplot(df['total_time'], bins=30, kde=True, color = 'teal')  # `kde=True` adds a smoothed curve

# Add labels
plt.xlabel("Total Time per Recipe (mins)")
plt.ylabel("Number of Recipes")
plt.title("Quicker Recipes Appear Most Frequently")


# There is a lot of spread regarding a recipes total time
# The most extreme recipes being above 2_500 mins
df[df['total_time'] > 2_500]


# After looking into each of the recipes on the webiste they are all valid recipes with correctly inputed information








# Max
df['calories'].max()


# Min
df['calories'].min()
df['calories'].mean()


sns.set(style="whitegrid")
plt.figure(figsize = (12, 6))

# Create a boxplot to look at time distribution
sns.boxplot(x=df['calories'])

# Add labels and title
plt.xlabel("Total Calories (kcal)")
plt.title("Distribution of a Recipe Total Calories");


# Plot the histogram
plt.figure(figsize=(9, 6))
sns.histplot(df['calories'], bins=30, kde=True, color = 'orange')  # `kde=True` adds a smoothed curve

# Add labels
plt.xlabel("Calories per Serving (kcal)")
plt.ylabel("Number of Recipes")
plt.title("Majority of Recipes Under 1K Calories");


# The most extreme recipes are 2_000 and above
df[df['calories'] >= 2_000]

# There are all valid recipes





# Max
df['fat'].max()


# Min
df['fat'].min()
df['fat'].mean()


sns.set(style="whitegrid")
plt.figure(figsize = (12, 6))

# Create a boxplot to look at time distribution
sns.boxplot(x=df['fat'])

# Add labels and title
plt.xlabel("Total Fat (g)")
plt.title("Distribution of a Recipe Total Fat");


# Plot the histogram
plt.figure(figsize=(9, 6))
sns.histplot(df['fat'], bins=30, kde=True)  # `kde=True` adds a smoothed curve

# Add labels
plt.xlabel("Fats per Serving (grams)")
plt.ylabel("Number of Recipes")
plt.title("Most Recipes are Moderate to Low in Fat");


# The most extreme recipes being above 140
df[df['fat'] > 140]





# Max
df['carbs'].max()


# Min
df['carbs'].min()
df['carbs'].mean()


sns.set(style="whitegrid")
plt.figure(figsize = (12, 6))

# Create a boxplot to look at time distribution
sns.boxplot(x=df['carbs'])

# Add labels and title
plt.xlabel("Total Carbs (grams)")
plt.title("Distribution of Carbs");


# Plot the histogram
plt.figure(figsize=(9, 6))
sns.histplot(df['carbs'], bins=30, kde=True, color = 'blue')  # `kde=True` adds a smoothed curve

# Add labels
plt.xlabel("Carbs per Serving (grams)")
plt.ylabel("Number of Recipes")
plt.title("High Frequency of Low to Average Carb Counts");





# Max
df['protein'].max()


# Min
df['protein'].min()



sns.set(style="whitegrid")
plt.figure(figsize = (12, 6))

# Create a boxplot to look at time distribution
sns.boxplot(x=df['protein'])

# Add labels and title
plt.xlabel("Total Protein (grams)")
plt.title("Distribution of Proteins");


# Plot the histogram
plt.figure(figsize=(9, 6))
sns.histplot(df['protein'], bins=30, kde=True, color = 'green')  # `kde=True` adds a smoothed curve

# Add labels
plt.xlabel("Protein per Serving (grams)")
plt.ylabel("Number of Recipes")
plt.title("Fairly Even Spread of Recipes for Recipes Under 40 grams");


# The most extreme recipes being above 120 grams
df[df['protein'] > 120]
