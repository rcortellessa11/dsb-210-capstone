


























import matplotlib.pyplot as plt
import seaborn as sns
import pandas as pd


df = pd.read_csv('../data/recipes_cleaned.csv')


# Plot the histogram
plt.figure(figsize=(8, 10))
sns.histplot(df['total_time'], bins=30, kde=True)  # `kde=True` adds a smoothed curve

# Add labels
plt.xlabel("Total Time per Recipe (mins)")
plt.ylabel("Number of Recipes")
plt.title("Quicker Recipes Appear Most Frequently");


# Plot the histogram
plt.figure(figsize=(8, 10))
sns.histplot(df['calories'], bins=30, kde=True, color= 'orange')  # `kde=True` adds a smoothed curve

# Add labels
plt.xlabel("Calories per Serving (kcal)")
plt.ylabel("Number of Recipes")
plt.title("Majority of Recipes Under 1K Calories");

# The graph is right skewed with the majority of recipes having calories around the 400-600 kcals per recipe


# Plot the histogram
plt.figure(figsize=(8, 10))
sns.histplot(df['fat'], bins=30, kde=True, color = 'teal')  # `kde=True` adds a smoothed curve

# Add labels
plt.xlabel("Fats per Serving (grams)")
plt.ylabel("Number of Recipes")
plt.title("Most Recipes are Moderate to Low in Fat");

# The graph is right skewed with the majority of recipes having the amount of fats per serving around 15-30 grams per.


# Plot the histogram
plt.figure(figsize=(8, 10))
sns.histplot(df['carbs'], bins=30, kde=True, color = 'green')  # `kde=True` adds a smoothed curve

# Add labels
plt.xlabel("Carbs per Serving (grams)")
plt.ylabel("Number of Recipes")
plt.title("High Frequency of Low to Average Carb Counts");

# The grpah is right skewed with the majority of recipes seeming to be low carbs around that 25 grams per serving amount


# Plot the histogram
plt.figure(figsize=(12, 6))
sns.histplot(df['protein'], bins=30, kde=True, color = 'pink')  # `kde=True` adds a smoothed curve

# Add labels
plt.xlabel("Protein per Serving (grams)")
plt.ylabel("Number of Recipes")
plt.title("Fairly Even Spread of Recipes for Protein Under 40 grams");

# The distribution of protein is the most spread out of all the nutritional information. The graph is still right skewed, 
# however there are a lot more somewhat equally distributed amount of proetin from about 30 grams and below



